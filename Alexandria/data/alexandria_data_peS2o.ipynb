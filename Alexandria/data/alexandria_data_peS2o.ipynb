{
  "nbformat": 4,
  "nbformat_minor": 0,
  "metadata": {
    "colab": {
      "provenance": []
    },
    "kernelspec": {
      "name": "python3",
      "display_name": "Python 3"
    },
    "language_info": {
      "name": "python"
    }
  },
  "cells": [
    {
      "cell_type": "code",
      "execution_count": null,
      "metadata": {
        "colab": {
          "base_uri": "https://localhost:8080/"
        },
        "id": "zvvh2RWeIgG6",
        "outputId": "21d45c0c-4d9f-42e4-d67a-ba2376bb4265"
      },
      "outputs": [
        {
          "output_type": "stream",
          "name": "stdout",
          "text": [
            "--2024-04-16 13:40:20--  https://huggingface.co/datasets/allenai/peS2o/resolve/main/data/v2/validation-00001-of-00002.json.gz\n",
            "Resolving huggingface.co (huggingface.co)... 18.172.134.124, 18.172.134.88, 18.172.134.4, ...\n",
            "Connecting to huggingface.co (huggingface.co)|18.172.134.124|:443... connected.\n",
            "HTTP request sent, awaiting response... 302 Found\n",
            "Location: https://cdn-lfs.huggingface.co/repos/42/42/42424a33264effca1025d00240f8114e5dd7f140bceb716ef495d0cd3355b57a/32d5696a1df222ca512f3705b4bb4c732ae1814d3aca66f94f538e28663ba2c7?response-content-disposition=attachment%3B+filename*%3DUTF-8%27%27validation-00001-of-00002.json.gz%3B+filename%3D%22validation-00001-of-00002.json.gz%22%3B&response-content-type=application%2Fgzip&Expires=1713534020&Policy=eyJTdGF0ZW1lbnQiOlt7IkNvbmRpdGlvbiI6eyJEYXRlTGVzc1RoYW4iOnsiQVdTOkVwb2NoVGltZSI6MTcxMzUzNDAyMH19LCJSZXNvdXJjZSI6Imh0dHBzOi8vY2RuLWxmcy5odWdnaW5nZmFjZS5jby9yZXBvcy80Mi80Mi80MjQyNGEzMzI2NGVmZmNhMTAyNWQwMDI0MGY4MTE0ZTVkZDdmMTQwYmNlYjcxNmVmNDk1ZDBjZDMzNTViNTdhLzMyZDU2OTZhMWRmMjIyY2E1MTJmMzcwNWI0YmI0YzczMmFlMTgxNGQzYWNhNjZmOTRmNTM4ZTI4NjYzYmEyYzc%7EcmVzcG9uc2UtY29udGVudC1kaXNwb3NpdGlvbj0qJnJlc3BvbnNlLWNvbnRlbnQtdHlwZT0qIn1dfQ__&Signature=XPdofW55T-IFulaPqHl8ofnpxSkg%7E-rTOVgBnrrS0z0WYb-FSCRP4sCloYgVyo6ycWUrbUgywKE2O8j0NXGUX2z-V2d5FbBEP98tN93Kr%7EzraZ0gC2T-KJSLqrr67vmXz6QSW2OESpufUk3yhMAzvX-pjLrRBMCiEM2vqBTlDx6IOL9r%7E4D-G9Q81lkoz5ltTplHeijeqBjGH%7EY5ntu2kYc27TpZxYycHzRAr6uklOdqk4IF3TsQX501cyi8U%7EpowSppDzBR00-Il5U5%7EDdfp-U8z54NVML5BQ%7EZq1w1p4nUZxru9PvDZBe2uJ838hZuT2VeXtD6RtpIh7xmOaYbow__&Key-Pair-Id=KVTP0A1DKRTAX [following]\n",
            "--2024-04-16 13:40:20--  https://cdn-lfs.huggingface.co/repos/42/42/42424a33264effca1025d00240f8114e5dd7f140bceb716ef495d0cd3355b57a/32d5696a1df222ca512f3705b4bb4c732ae1814d3aca66f94f538e28663ba2c7?response-content-disposition=attachment%3B+filename*%3DUTF-8%27%27validation-00001-of-00002.json.gz%3B+filename%3D%22validation-00001-of-00002.json.gz%22%3B&response-content-type=application%2Fgzip&Expires=1713534020&Policy=eyJTdGF0ZW1lbnQiOlt7IkNvbmRpdGlvbiI6eyJEYXRlTGVzc1RoYW4iOnsiQVdTOkVwb2NoVGltZSI6MTcxMzUzNDAyMH19LCJSZXNvdXJjZSI6Imh0dHBzOi8vY2RuLWxmcy5odWdnaW5nZmFjZS5jby9yZXBvcy80Mi80Mi80MjQyNGEzMzI2NGVmZmNhMTAyNWQwMDI0MGY4MTE0ZTVkZDdmMTQwYmNlYjcxNmVmNDk1ZDBjZDMzNTViNTdhLzMyZDU2OTZhMWRmMjIyY2E1MTJmMzcwNWI0YmI0YzczMmFlMTgxNGQzYWNhNjZmOTRmNTM4ZTI4NjYzYmEyYzc%7EcmVzcG9uc2UtY29udGVudC1kaXNwb3NpdGlvbj0qJnJlc3BvbnNlLWNvbnRlbnQtdHlwZT0qIn1dfQ__&Signature=XPdofW55T-IFulaPqHl8ofnpxSkg%7E-rTOVgBnrrS0z0WYb-FSCRP4sCloYgVyo6ycWUrbUgywKE2O8j0NXGUX2z-V2d5FbBEP98tN93Kr%7EzraZ0gC2T-KJSLqrr67vmXz6QSW2OESpufUk3yhMAzvX-pjLrRBMCiEM2vqBTlDx6IOL9r%7E4D-G9Q81lkoz5ltTplHeijeqBjGH%7EY5ntu2kYc27TpZxYycHzRAr6uklOdqk4IF3TsQX501cyi8U%7EpowSppDzBR00-Il5U5%7EDdfp-U8z54NVML5BQ%7EZq1w1p4nUZxru9PvDZBe2uJ838hZuT2VeXtD6RtpIh7xmOaYbow__&Key-Pair-Id=KVTP0A1DKRTAX\n",
            "Resolving cdn-lfs.huggingface.co (cdn-lfs.huggingface.co)... 18.154.185.27, 18.154.185.64, 18.154.185.26, ...\n",
            "Connecting to cdn-lfs.huggingface.co (cdn-lfs.huggingface.co)|18.154.185.27|:443... connected.\n",
            "HTTP request sent, awaiting response... 200 OK\n",
            "Length: 494441994 (472M) [application/gzip]\n",
            "Saving to: ‘validation-00001-of-00002.json.gz’\n",
            "\n",
            "validation-00001-of 100%[===================>] 471.54M  74.7MB/s    in 6.5s    \n",
            "\n",
            "2024-04-16 13:40:27 (73.1 MB/s) - ‘validation-00001-of-00002.json.gz’ saved [494441994/494441994]\n",
            "\n"
          ]
        }
      ],
      "source": [
        "!wget https://huggingface.co/datasets/allenai/peS2o/resolve/main/data/v2/validation-00001-of-00002.json.gz\n"
      ]
    },
    {
      "cell_type": "code",
      "source": [
        "import pandas as pd\n",
        "import gzip\n",
        "import json\n",
        "\n",
        "# Load the gzipped JSON file\n",
        "with gzip.open('validation-00001-of-00002.json.gz', 'rt') as file:\n",
        "    data = [json.loads(line) for line in file]\n",
        "\n",
        "# Convert the data to a DataFrame\n",
        "df = pd.DataFrame(data)\n",
        "\n",
        "df=df[:10000]\n",
        "# Print the DataFrame to check its contents\n",
        "print(df)\n",
        "df.to_csv('peS2o_subset.csv', index=False)\n",
        "# Iterate over the DataFrame rows\n",
        "for index, row in df.iterrows():\n",
        "    print(row)\n",
        "    break\n"
      ],
      "metadata": {
        "colab": {
          "base_uri": "https://localhost:8080/"
        },
        "id": "pUdpF_s-JKGj",
        "outputId": "c2d0cd0c-c3c9-4582-b5d0-ecfccf3480c7"
      },
      "execution_count": null,
      "outputs": [
        {
          "output_type": "stream",
          "name": "stdout",
          "text": [
            "             id       source version                     added  \\\n",
            "0     255125000  s2orc/valid      v2  2022-12-27T06:42:08.340Z   \n",
            "1     254974300  s2orc/valid      v2  2022-12-23T06:42:11.783Z   \n",
            "2     255059800  s2orc/valid      v2  2022-12-25T05:16:33.201Z   \n",
            "3     254926900  s2orc/valid      v2  2022-12-22T06:42:30.780Z   \n",
            "4     254313210  s2orc/valid      v2  2022-12-07T16:02:52.358Z   \n",
            "...         ...          ...     ...                       ...   \n",
            "9995  254879281  s2orc/valid      v2  2022-12-21T14:02:11.018Z   \n",
            "9996  254366431  s2orc/valid      v2  2022-12-08T06:42:05.596Z   \n",
            "9997  254728911  s2orc/valid      v2  2022-12-16T16:10:54.822Z   \n",
            "9998  254439191  s2orc/valid      v2  2022-12-09T16:16:13.753Z   \n",
            "9999  254956101  s2orc/valid      v2  2022-12-22T16:10:46.884Z   \n",
            "\n",
            "                       created  \\\n",
            "0     2022-12-24T00:00:00.000Z   \n",
            "1     2022-12-22T00:00:00.000Z   \n",
            "2     2022-12-23T00:00:00.000Z   \n",
            "3     2022-12-21T00:00:00.000Z   \n",
            "4     2022-12-01T00:00:00.000Z   \n",
            "...                        ...   \n",
            "9995  2022-12-02T00:00:00.000Z   \n",
            "9996  2022-12-06T00:00:00.000Z   \n",
            "9997  2022-12-01T00:00:00.000Z   \n",
            "9998  2022-12-07T00:00:00.000Z   \n",
            "9999  2022-12-20T00:00:00.000Z   \n",
            "\n",
            "                                                   text  \n",
            "0     Tightrope-walking rationality in action: Feyer...  \n",
            "1     Free Energy on the Sphere for Non-Abelian Gaug...  \n",
            "2     Suppressive effects of pterostilbene on human ...  \n",
            "3     ImPaKT: A Dataset for Open-Schema Knowledge Ba...  \n",
            "4     Sex Differences in Emotions and Eating Behavio...  \n",
            "...                                                 ...  \n",
            "9995  Innovative Maritime Operations Management Usin...  \n",
            "9996  Multipolar interactions and magnetic excitatio...  \n",
            "9997  Imaging Cataract-Specific Peptides in Human Le...  \n",
            "9998  Catalases in the pathogenesis of Sporothrix sc...  \n",
            "9999  CAULIFLOWER AND BROCCOLI FLORETTING MACHINE\\n\\...  \n",
            "\n",
            "[10000 rows x 6 columns]\n",
            "id                                                 255125000\n",
            "source                                           s2orc/valid\n",
            "version                                                   v2\n",
            "added                               2022-12-27T06:42:08.340Z\n",
            "created                             2022-12-24T00:00:00.000Z\n",
            "text       Tightrope-walking rationality in action: Feyer...\n",
            "Name: 0, dtype: object\n"
          ]
        }
      ]
    }
  ]
}